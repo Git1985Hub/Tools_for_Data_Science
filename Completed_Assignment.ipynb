{
 "cells": [
  {
   "cell_type": "markdown",
   "id": "dab02941-eeda-404d-97b8-4440ce7d77fa",
   "metadata": {},
   "source": [
    "# My Jupyter Notebook on IBM Watson Studio"
   ]
  },
  {
   "cell_type": "markdown",
   "id": "a51db76e-e5b3-4292-8c30-a43649f20422",
   "metadata": {},
   "source": [
    "**Thushantha Jayakody**<br>\n",
    "Data Analyst"
   ]
  },
  {
   "cell_type": "markdown",
   "id": "71a1142e-482c-4027-92cd-d9394e5e1ed7",
   "metadata": {},
   "source": [
    "*I'm interested in data science because it helps us to take good decisions without guessing.*"
   ]
  },
  {
   "cell_type": "markdown",
   "id": "1f4aba91-14d2-49e0-83fc-933d7bd873e2",
   "metadata": {},
   "source": [
    "### The following code adds and print two variables A and B"
   ]
  },
  {
   "cell_type": "code",
   "execution_count": 4,
   "id": "e1de554a-1dda-4010-86ea-9191f0aab7ea",
   "metadata": {},
   "outputs": [
    {
     "name": "stdout",
     "output_type": "stream",
     "text": [
      "60\n"
     ]
    }
   ],
   "source": [
    "A = 20\n",
    "B = 40\n",
    "print(A+B)"
   ]
  },
  {
   "cell_type": "markdown",
   "id": "d46a3066-a2c4-49bb-88cf-a9932cd9f063",
   "metadata": {},
   "source": [
    "***\n",
    "* Apple\n",
    "* Mango\n",
    "* Grapes\n",
    "* Orange\n",
    "\n",
    "1. Apple\n",
    "2. Mango\n",
    "3. Grapes\n",
    "4. Orange\n",
    "\n",
    "|Name | Age | Shoe Size|\n",
    "|-----|------|----------|\n",
    "|Ann|21|10.0|\n",
    "|Matt|23|10.5|\n",
    "|John|24|12.0|\n",
    "\n",
    "![Jupyter Notebook Logo is here.](https://th.bing.com/th/id/OIP.NRYlQxbMIDeGXndE8YwS_wHaHa?w=171&h=180&c=7&r=0&o=5&dpr=1.1&pid=1.7)"
   ]
  }
 ],
 "metadata": {
  "kernelspec": {
   "display_name": "Python",
   "language": "python",
   "name": "conda-env-python-py"
  },
  "language_info": {
   "codemirror_mode": {
    "name": "ipython",
    "version": 3
   },
   "file_extension": ".py",
   "mimetype": "text/x-python",
   "name": "python",
   "nbconvert_exporter": "python",
   "pygments_lexer": "ipython3",
   "version": "3.7.12"
  }
 },
 "nbformat": 4,
 "nbformat_minor": 5
}
